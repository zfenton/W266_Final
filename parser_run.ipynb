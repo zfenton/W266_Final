{
 "cells": [
  {
   "cell_type": "code",
   "execution_count": null,
   "metadata": {},
   "outputs": [],
   "source": [
    "from screenplayparser.parser import ScreenplayParser\n",
    "import numpy as np\n",
    "import pandas as pd\n",
    "import transformers\n",
    "import torch\n",
    "#from transfromers import BertTokenizer, BertModel"
   ]
  },
  {
   "cell_type": "code",
   "execution_count": null,
   "metadata": {},
   "outputs": [],
   "source": [
    "from transformers import BertTokenizer, BertModel"
   ]
  },
  {
   "cell_type": "code",
   "execution_count": null,
   "metadata": {},
   "outputs": [],
   "source": [
    "# Load Dataframe\n",
    "df = pd.read_csv('ScriptData.csv')\n",
    "df.head()"
   ]
  },
  {
   "cell_type": "code",
   "execution_count": null,
   "metadata": {},
   "outputs": [],
   "source": [
    "# Create dataframe with single column called 'dialogue' \n",
    "df_dialogue = pd.DataFrame(columns=['dialogue'])\n",
    "df_dialogue"
   ]
  },
  {
   "cell_type": "code",
   "execution_count": null,
   "metadata": {},
   "outputs": [],
   "source": [
    "# Rules Based Approach\n",
    "path_script_ = 'script.txt'\n",
    "dl_list = []\n",
    "screenplay_parser = ScreenplayParser(use_rules=True)\n",
    "for i in range(len(df)):\n",
    "    # read the script from the dataframe and save it to a file.\n",
    "    script = df['script'][i]\n",
    "    with open('script.txt', 'w') as f:\n",
    "        f.write(script)\n",
    "    \n",
    "    # Read the script from the file    \n",
    "    with open(path_script_) as f:\n",
    "        script = f.read().splitlines()    \n",
    "    \n",
    "    # Remove empty lines\n",
    "    script = [line.strip() for line in script if line.strip()]\n",
    "    # Create script and parsed script varaibles\n",
    "    print(i)\n",
    "    parsed_script = screenplay_parser.parse(df['script'][i])\n",
    "    \n",
    "    # Combine the parsed script and script into a list of tuples\n",
    "    combined_script = list(zip(parsed_script, script))\n",
    "    \n",
    "    # Extract the dialogues from the combined script\n",
    "    dialogues = [line for line in combined_script if line[0] == \"D\"]\n",
    "    \n",
    "    # Combine the dialogues into a single string\n",
    "    dialogues = [line[1] for line in dialogues]\n",
    "    dialogues = \" \".join(dialogues)\n",
    "    \n",
    "    # Append the dialogues to the list\n",
    "    dl_list.append(dialogues)\n",
    "    \n",
    "\n",
    "  \n",
    "    \n",
    "# screenplay_parser = ScreenplayParser(use_rules=True)\n",
    "# parsed_script = screenplay_parser.parse('script.txt')\n",
    "\n",
    "    "
   ]
  },
  {
   "cell_type": "code",
   "execution_count": null,
   "metadata": {},
   "outputs": [],
   "source": [
    "# Add dl_list to the dataframe df\n",
    "df['dialogue'] = dl_list\n",
    "df.head()"
   ]
  },
  {
   "cell_type": "code",
   "execution_count": null,
   "metadata": {},
   "outputs": [],
   "source": [
    "# Save the dataframe to a csv file as 'rules_parser.csv'\n",
    "df.to_csv('rules_parser.csv', index=False)"
   ]
  },
  {
   "cell_type": "code",
   "execution_count": null,
   "metadata": {},
   "outputs": [],
   "source": [
    "\n",
    "df_ml = pd.DataFrame(columns=[\"ml_dialogue\"])\n",
    "df_ml"
   ]
  },
  {
   "cell_type": "code",
   "execution_count": null,
   "metadata": {},
   "outputs": [],
   "source": [
    "parse_test = ScreenplayParser(use_rules=True, device_id=0)\n",
    "\n",
    "parsed_script = parse_test.parse(df['script'][0])\n",
    "len(parsed_script)"
   ]
  },
  {
   "cell_type": "code",
   "execution_count": null,
   "metadata": {},
   "outputs": [],
   "source": [
    "df['script'][0]"
   ]
  },
  {
   "cell_type": "code",
   "execution_count": null,
   "metadata": {},
   "outputs": [],
   "source": [
    "# ML Based Approach\n",
    "path_script_ = 'script.txt'\n",
    "ml_list = []\n",
    "trx_parser = ScreenplayParser(use_rules=False, device_id=0)\n",
    "for i in range(len(df)):\n",
    "    # read the script from the dataframe and save it to a file.\n",
    "    script = df['script'][i].splitlines()\n",
    "    # with open('script.txt', 'w') as f:\n",
    "    #     f.write(script)\n",
    "    \n",
    "    # # Read the script from the file    \n",
    "    # with open(path_script_) as f:\n",
    "    #     script = f.read().splitlines()    \n",
    "    \n",
    "    # Remove empty lines\n",
    "    script = [line.strip() for line in script if line.strip()]\n",
    "    # Create script and parsed script varaibles\n",
    "    print(i)\n",
    "    torch.cuda.empty_cache()\n",
    "    parsed_script = trx_parser.parse(script)\n",
    "    \n",
    "    # Combine the parsed script and script into a list of tuples\n",
    "    combined_script = list(zip(parsed_script, script))\n",
    "    \n",
    "    # Extract the dialogues from the combined script\n",
    "    dialogues = [line for line in combined_script if line[0] == \"D\"]\n",
    "    \n",
    "    # Combine the dialogues into a single string\n",
    "    dialogues = [line[1] for line in dialogues]\n",
    "    dialogues = \" \".join(dialogues)\n",
    "    \n",
    "    # Append the dialogues to the list\n",
    "    ml_list.append(dialogues)\n",
    "    \n",
    "\n",
    "  \n",
    "    \n",
    "# screenplay_parser = ScreenplayParser(use_rules=True)\n",
    "# parsed_script = screenplay_parser.parse('script.txt')\n",
    "\n",
    "    "
   ]
  },
  {
   "cell_type": "code",
   "execution_count": null,
   "metadata": {},
   "outputs": [],
   "source": [
    "trx_parser = ScreenplayParser(use_rules=False, device_id=0)\n",
    "for i in range(len(df)):\n",
    "    # read the script from the dataframe and save it to a file.\n",
    "    script = df['script'][i].splitlines()\n",
    "    \n",
    "    # Remove empty lines\n",
    "    script = [line.strip() for line in script if line.strip()]\n",
    "    # Create script and parsed script varaibles\n",
    "    print(i)\n",
    "    torch.cuda.empty_cache()\n",
    "    parsed_script = trx_parser.parse(script)\n",
    "    \n",
    "    # Combine the parsed script and script into a list of tuples\n",
    "    combined_script = list(zip(parsed_script, script))"
   ]
  },
  {
   "cell_type": "code",
   "execution_count": null,
   "metadata": {},
   "outputs": [],
   "source": [
    "#trx_parser = ScreenplayParser(use_rules=False, device_id=0)\n",
    "script = df['script'][0].splitlines()\n",
    "\n",
    "# Remove empty lines\n",
    "script = [line.strip() for line in script if line.strip()]\n",
    "# Create script and parsed script varaibles\n",
    "print(0)\n",
    "#torch.cuda.empty_cache()\n",
    "parsed_script = trx_parser.parse(script)\n",
    "\n",
    "# Combine the parsed script and script into a list of tuples\n",
    "combined_script = list(zip(parsed_script, script))"
   ]
  },
  {
   "cell_type": "code",
   "execution_count": null,
   "metadata": {},
   "outputs": [],
   "source": [
    "combined_script"
   ]
  },
  {
   "cell_type": "code",
   "execution_count": null,
   "metadata": {},
   "outputs": [],
   "source": [
    "# Add dl_list to the dataframe df\n",
    "df['ml_dialogue'] = ml_list\n",
    "df.head()"
   ]
  },
  {
   "cell_type": "code",
   "execution_count": null,
   "metadata": {},
   "outputs": [],
   "source": [
    "# Save the dataframe to a csv file as 'rules_parser.csv'\n",
    "df.to_csv('robust_parser.csv', index=False)"
   ]
  },
  {
   "cell_type": "markdown",
   "metadata": {},
   "source": [
    "---\n",
    "## Test Code Below"
   ]
  },
  {
   "cell_type": "code",
   "execution_count": null,
   "metadata": {},
   "outputs": [],
   "source": [
    "df['script'][0]"
   ]
  },
  {
   "cell_type": "code",
   "execution_count": null,
   "metadata": {},
   "outputs": [],
   "source": [
    "for i in range(2):\n",
    "    # read the script from the dataframe and save it to a file.\n",
    "    script = df['script'][i].splitlines()\n",
    "    # with open('script.txt', 'w') as f:\n",
    "    #     f.write(script)\n",
    "    \n",
    "    # # Read the script from the file    \n",
    "    # with open(path_script_) as f:\n",
    "    #     script = f.read().splitlines()  \n",
    "    print(script)\n",
    "    print(type(script))  \n",
    "    \n",
    "    # Remove empty lines\n",
    "    script = [line.strip() for line in script if line.strip()]\n",
    "    #print(script)\n",
    "    parsed_script = trx_parser.parse(script)\n",
    "    print(parsed_script)\n",
    "    # Create script and parsed script varaibles\n",
    "    print(i)"
   ]
  },
  {
   "cell_type": "code",
   "execution_count": null,
   "metadata": {},
   "outputs": [],
   "source": [
    "script = df['script'][0].splitlines()\n",
    "\n",
    "print(script)\n",
    "print(type(df['script'][0]))\n",
    "script = [line.strip() for line in script if line.strip()]\n",
    "print(script)\n",
    "print(type(script))"
   ]
  },
  {
   "cell_type": "code",
   "execution_count": null,
   "metadata": {},
   "outputs": [],
   "source": [
    "df['script'][50]"
   ]
  },
  {
   "cell_type": "code",
   "execution_count": null,
   "metadata": {},
   "outputs": [],
   "source": [
    "script = df['script'][0]\n",
    "parsed_script = screenplay_parser.parse(df['script'][0])\n",
    "combined_script = list(zip(parsed_script, script))"
   ]
  },
  {
   "cell_type": "code",
   "execution_count": null,
   "metadata": {},
   "outputs": [],
   "source": [
    "combined_script"
   ]
  },
  {
   "cell_type": "code",
   "execution_count": null,
   "metadata": {},
   "outputs": [],
   "source": [
    "script_path = \"script.txt\" \n",
    "\n",
    "with open(script_path) as f:\n",
    "    script = f.read().splitlines()\n",
    "print(script)"
   ]
  },
  {
   "cell_type": "code",
   "execution_count": null,
   "metadata": {},
   "outputs": [],
   "source": [
    "# drop empty lines and whitespace\n",
    "script = [line.strip() for line in script if line.strip()]\n",
    "#script = script.astype(str)\n",
    "script = \" \".join(script)\n",
    "print(script)"
   ]
  },
  {
   "cell_type": "code",
   "execution_count": null,
   "metadata": {},
   "outputs": [],
   "source": [
    "trx_parser = ScreenplayParser(use_rules=False, device_id=0)"
   ]
  },
  {
   "cell_type": "code",
   "execution_count": null,
   "metadata": {},
   "outputs": [],
   "source": [
    "#trx_parser = ScreenplayParser(use_rules=False, device_id=0)\n",
    "\n",
    "ml_parsed_script = trx_parser.parse(script) \n",
    "print(ml_parsed_script)"
   ]
  },
  {
   "cell_type": "code",
   "execution_count": null,
   "metadata": {},
   "outputs": [],
   "source": [
    "model = torch.load('screenplayparser/model.pt')"
   ]
  },
  {
   "cell_type": "code",
   "execution_count": null,
   "metadata": {},
   "outputs": [],
   "source": [
    "rule_parser = ScreenplayParser(use_rules=True)\n",
    "\n",
    "parsed_script = rule_parser.parse(script)\n",
    "print(parsed_script)"
   ]
  },
  {
   "cell_type": "code",
   "execution_count": null,
   "metadata": {},
   "outputs": [],
   "source": [
    "print(len(script))\n",
    "print(len(parsed_script))"
   ]
  },
  {
   "cell_type": "code",
   "execution_count": null,
   "metadata": {},
   "outputs": [],
   "source": [
    "for i in range(len(script)):\n",
    "    print(script[i])\n",
    "    print(parsed_script[i])\n",
    "\n",
    "\n"
   ]
  },
  {
   "cell_type": "code",
   "execution_count": null,
   "metadata": {},
   "outputs": [],
   "source": [
    "# combine the script and parsed script into a single list\n",
    "combined_script = list(zip(parsed_script, script))\n",
    "print(combined_script)"
   ]
  },
  {
   "cell_type": "code",
   "execution_count": null,
   "metadata": {},
   "outputs": [],
   "source": [
    "# Remove the lines that are not dialogues\n",
    "dialogues = [line for line in combined_script if line[0] == \"D\"]\n",
    "print(dialogues)"
   ]
  },
  {
   "cell_type": "code",
   "execution_count": null,
   "metadata": {},
   "outputs": [],
   "source": [
    "# Extract the dialogues into a single string\n",
    "dialogues = [line[1] for line in dialogues]\n",
    "dialogues = \" \".join(dialogues)\n",
    "print(dialogues)"
   ]
  },
  {
   "cell_type": "code",
   "execution_count": null,
   "metadata": {},
   "outputs": [],
   "source": [
    "# Create a dataframe with the dialogues\n",
    "df_dialog = pd.DataFrame(dialogues.split(\"\\n\"), columns=[\"dialogues\"])\n",
    "print(len(df_dialog[\"dialogues\"][0]))"
   ]
  },
  {
   "cell_type": "code",
   "execution_count": null,
   "metadata": {},
   "outputs": [],
   "source": [
    "df = pd.read_csv(\"Table_1_Exploratory_Data_With_Scripts.csv\")\n",
    "df.head()"
   ]
  },
  {
   "cell_type": "code",
   "execution_count": null,
   "metadata": {},
   "outputs": [],
   "source": []
  },
  {
   "cell_type": "code",
   "execution_count": null,
   "metadata": {},
   "outputs": [],
   "source": []
  }
 ],
 "metadata": {
  "kernelspec": {
   "display_name": "parser",
   "language": "python",
   "name": "python3"
  },
  "language_info": {
   "codemirror_mode": {
    "name": "ipython",
    "version": 3
   },
   "file_extension": ".py",
   "mimetype": "text/x-python",
   "name": "python",
   "nbconvert_exporter": "python",
   "pygments_lexer": "ipython3",
   "version": "3.8.20"
  }
 },
 "nbformat": 4,
 "nbformat_minor": 2
}
